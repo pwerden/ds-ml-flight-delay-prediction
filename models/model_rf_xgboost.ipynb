{
 "cells": [
  {
   "cell_type": "code",
   "execution_count": null,
   "metadata": {},
   "outputs": [],
   "source": [
    "# import the necessary libraries we need for your analysis\n",
    "import pandas as pd\n",
    "import numpy as np\n",
    "import matplotlib.pyplot as plt\n",
    "import seaborn as sns\n",
    "\n",
    "from sklearn.preprocessing import OneHotEncoder, LabelEncoder\n",
    "from sklearn.model_selection import train_test_split\n",
    "\n",
    "from sklearn.linear_model import LinearRegression\n",
    "from xgboost import XGBRegressor\n",
    "from sklearn.ensemble import RandomForestClassifier\n",
    "\n",
    "from sklearn.linear_model import SGDClassifier\n",
    "from sklearn.preprocessing import StandardScaler, MinMaxScaler\n",
    "import sys\n",
    "from io import StringIO\n",
    "\n",
    "from sklearn.metrics import r2_score, accuracy_score\n",
    "\n",
    "RSEED =  10\n",
    "\n",
    "import warnings\n",
    "warnings.filterwarnings('ignore')"
   ]
  },
  {
   "cell_type": "code",
   "execution_count": null,
   "metadata": {},
   "outputs": [],
   "source": [
    "import os\n",
    "import sys\n",
    "module_path = os.path.abspath(os.path.join('..'))\n",
    "if module_path not in sys.path:\n",
    "    sys.path.append(module_path)\n",
    "    \n",
    "import project_fun as prj\n",
    "\n",
    "## alternative way of doing the same\n",
    "#import sys;\n",
    "#sys.path.insert(0,'..')\n",
    "#import project_fun as prj"
   ]
  },
  {
   "cell_type": "code",
   "execution_count": null,
   "metadata": {},
   "outputs": [],
   "source": [
    "df = pd.read_csv('../data/Train_cleaned.csv',delimiter=';')"
   ]
  },
  {
   "cell_type": "code",
   "execution_count": null,
   "metadata": {},
   "outputs": [],
   "source": [
    "df.head()"
   ]
  },
  {
   "cell_type": "code",
   "execution_count": null,
   "metadata": {},
   "outputs": [],
   "source": [
    "# 1) encode departure countries\n",
    "le1 = LabelEncoder()\n",
    "le1.fit(df['country_dep'])\n",
    "df['country_dep'] = le1.transform(df['country_dep'])\n",
    "\n",
    "# 2) encode arrival countries\n",
    "le2 = LabelEncoder()\n",
    "le2.fit(df['country_arr'])\n",
    "df['country_arr'] = le2.transform(df['country_arr'])\n",
    "\n",
    "# 2) encode flight id\n",
    "le3 = LabelEncoder()\n",
    "le3.fit(df['FLTID'])\n",
    "df['FLTID'] = le3.transform(df['FLTID'])"
   ]
  },
  {
   "cell_type": "code",
   "execution_count": null,
   "metadata": {},
   "outputs": [],
   "source": [
    "df.columns"
   ]
  },
  {
   "cell_type": "code",
   "execution_count": null,
   "metadata": {},
   "outputs": [],
   "source": [
    "df.drop(['DATOP','STA','STD','season','outcome','lat_arr','lon_arr','lat_dep','lon_dep'],axis=1,inplace=True)"
   ]
  },
  {
   "cell_type": "code",
   "execution_count": null,
   "metadata": {},
   "outputs": [],
   "source": [
    "df.sample(5)"
   ]
  },
  {
   "cell_type": "code",
   "execution_count": null,
   "metadata": {},
   "outputs": [],
   "source": [
    "# Define features and target\n",
    "y = df['target']\n",
    "X = df[['FLTID','hour_STA','hour_STD','month','year','scheduled_time_duration','country_dep','season_num','elevation_dep','day_of_week']]\n",
    "\n",
    "# Split the features and target data into training and testing sets\n",
    "X_train, X_test, y_train, y_test = train_test_split(X, y, random_state=RSEED, train_size = .8)"
   ]
  },
  {
   "cell_type": "markdown",
   "metadata": {},
   "source": [
    "## XGBoost regression"
   ]
  },
  {
   "cell_type": "code",
   "execution_count": null,
   "metadata": {},
   "outputs": [],
   "source": [
    "xgb = XGBRegressor()\n",
    "\n",
    "#fit model\n",
    "xgb.fit(X_train, y_train)\n",
    "\n",
    "#predict model\n",
    "y_train_pred_xgb = xgb.predict(X_train)\n",
    "y_test_pred_xgb = xgb.predict(X_test)"
   ]
  },
  {
   "cell_type": "code",
   "execution_count": null,
   "metadata": {},
   "outputs": [],
   "source": [
    "print('Test_evaluation_metrics')\n",
    "print(\"R-squared_xgb:\", r2_score(y_test, y_test_pred_xgb).round(3))\n",
    "print(\"RMSE-squared_xgb:\", mean_squared_error(y_test, y_test_pred_xgb, squared=False).round(3))\n",
    "print('-----------------')\n",
    "print('Train_evaluation_metrics')\n",
    "print(\"R-squared_xgb:\", r2_score(y_train, y_train_pred_xgb).round(3))\n",
    "print(\"RMSE-squared_xgb:\", mean_squared_error(y_train, y_train_pred_xgb, squared=False).round(3))"
   ]
  },
  {
   "cell_type": "markdown",
   "metadata": {},
   "source": [
    "## XGBoost with scaling"
   ]
  },
  {
   "cell_type": "markdown",
   "metadata": {},
   "source": [
    "### standard scaler"
   ]
  },
  {
   "cell_type": "code",
   "execution_count": null,
   "metadata": {},
   "outputs": [],
   "source": [
    "X_train_sc = X_train.copy()\n",
    "X_test_sc = X_test.copy()"
   ]
  },
  {
   "cell_type": "code",
   "execution_count": null,
   "metadata": {},
   "outputs": [],
   "source": [
    "scaler = StandardScaler()\n",
    "numerical = ['FLTID', 'year','scheduled_time_duration','elevation_dep']\n",
    "X_train_sc[numerical] = scaler.fit_transform(X_train_sc[numerical])\n",
    "X_test_sc[numerical] = scaler.transform(X_test_sc[numerical])\n",
    "\n",
    "#pd.DataFrame(X_train_sc[numerical])"
   ]
  },
  {
   "cell_type": "code",
   "execution_count": null,
   "metadata": {},
   "outputs": [],
   "source": [
    "X_train_sc"
   ]
  },
  {
   "cell_type": "code",
   "execution_count": null,
   "metadata": {},
   "outputs": [],
   "source": [
    "xgb_sc = XGBRegressor()\n",
    "\n",
    "#fit model\n",
    "xgb_sc.fit(X_train, y_train)\n",
    "\n",
    "#predict model\n",
    "y_train_pred_xgb_sc = xgb_sc.predict(X_train)\n",
    "y_test_pred_xgb_sc = xgb_sc.predict(X_test)"
   ]
  },
  {
   "cell_type": "code",
   "execution_count": null,
   "metadata": {},
   "outputs": [],
   "source": [
    "print('Test_evaluation_metrics_standardscaler')\n",
    "print(\"R-squared_xgb_sc:\", r2_score(y_test, y_test_pred_xgb_sc).round(3))\n",
    "print(\"RMSE-squared_xgb_sc:\", mean_squared_error(y_test, y_test_pred_xgb_sc, squared=False).round(3))\n",
    "print('-----------------')\n",
    "print('Train_evaluation_metrics')\n",
    "print(\"R-squared_xgb_sc:\", r2_score(y_train, y_train_pred_xgb_sc).round(3))\n",
    "print(\"RMSE-squared_xgb_sc:\", mean_squared_error(y_train, y_train_pred_xgb_sc, squared=False).round(3))"
   ]
  },
  {
   "cell_type": "markdown",
   "metadata": {},
   "source": [
    "## minmax_scaler"
   ]
  },
  {
   "cell_type": "code",
   "execution_count": null,
   "metadata": {},
   "outputs": [],
   "source": [
    "X_train_mm = X_train.copy()\n",
    "X_test_mm = X_test.copy()"
   ]
  },
  {
   "cell_type": "code",
   "execution_count": null,
   "metadata": {},
   "outputs": [],
   "source": [
    "scaler_mm = MinMaxScaler()\n",
    "numerical = ['FLTID', 'year','scheduled_time_duration','elevation_dep']\n",
    "X_train_mm[numerical] = scaler_mm.fit_transform(X_train_mm[numerical])\n",
    "X_test_mm[numerical] = scaler_mm.transform(X_test_mm[numerical])\n",
    "\n",
    "#pd.DataFrame(X_train_sc[numerical])"
   ]
  },
  {
   "cell_type": "code",
   "execution_count": null,
   "metadata": {},
   "outputs": [],
   "source": [
    "xgb_mm = XGBRegressor()\n",
    "\n",
    "#fit model\n",
    "xgb_mm.fit(X_train, y_train)\n",
    "\n",
    "#predict model\n",
    "y_train_pred_xgb_mm = xgb_sc.predict(X_train)\n",
    "y_test_pred_xgb_mm = xgb_sc.predict(X_test)"
   ]
  },
  {
   "cell_type": "code",
   "execution_count": null,
   "metadata": {},
   "outputs": [],
   "source": [
    "print('Test_evaluation_metrics_MinMaxscaler')\n",
    "print(\"R-squared_xgb_sc:\", r2_score(y_test, y_test_pred_xgb_mm).round(3))\n",
    "print(\"RMSE-squared_xgb_sc:\", mean_squared_error(y_test, y_test_pred_xgb_mm, squared=False).round(3))\n",
    "print('-----------------')\n",
    "print('Train_evaluation_metrics')\n",
    "print(\"R-squared_xgb_sc:\", r2_score(y_train, y_train_pred_xgb_mm).round(3))\n",
    "print(\"RMSE-squared_xgb_sc:\", mean_squared_error(y_train, y_train_pred_xgb_mm, squared=False).round(3))"
   ]
  },
  {
   "cell_type": "code",
   "execution_count": null,
   "metadata": {},
   "outputs": [],
   "source": [
    "prj.calculate_metrics(y_train, y_train_pred_xgb, y_test, y_test_pred_xgb)"
   ]
  },
  {
   "cell_type": "code",
   "execution_count": null,
   "metadata": {},
   "outputs": [],
   "source": [
    "prj.error_analysis(y_test,y_test_pred_xgb)"
   ]
  },
  {
   "cell_type": "markdown",
   "metadata": {},
   "source": [
    "# Random Forest regressor"
   ]
  },
  {
   "cell_type": "code",
   "execution_count": null,
   "metadata": {},
   "outputs": [],
   "source": [
    "from sklearn.ensemble import RandomForestRegressor"
   ]
  },
  {
   "cell_type": "code",
   "execution_count": null,
   "metadata": {},
   "outputs": [],
   "source": [
    "rf_reg = RandomForestRegressor(max_depth=2, random_state=0)\n",
    "rf_reg.fit(X_train,y_train)\n",
    "\n",
    "y_train_pred_rf = rf_reg.predict(X_train)\n",
    "y_test_pred_rf = rf_reg.predict(X_test)"
   ]
  },
  {
   "cell_type": "code",
   "execution_count": null,
   "metadata": {},
   "outputs": [],
   "source": [
    "prj.calculate_metrics(y_train, y_train_pred_rf, y_test, y_test_pred_rf)"
   ]
  }
 ],
 "metadata": {
  "kernelspec": {
   "display_name": "Python 3.9.8 ('.venv': venv)",
   "language": "python",
   "name": "python3"
  },
  "language_info": {
   "codemirror_mode": {
    "name": "ipython",
    "version": 3
   },
   "file_extension": ".py",
   "mimetype": "text/x-python",
   "name": "python",
   "nbconvert_exporter": "python",
   "pygments_lexer": "ipython3",
   "version": "3.9.8"
  },
  "orig_nbformat": 4,
  "vscode": {
   "interpreter": {
    "hash": "0bbfea5e7b059f73fc1689b57ec3abe520a49335fba45bf160716007f93e3189"
   }
  }
 },
 "nbformat": 4,
 "nbformat_minor": 2
}
