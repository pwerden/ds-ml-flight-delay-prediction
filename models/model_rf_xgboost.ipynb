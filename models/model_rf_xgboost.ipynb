{
 "cells": [
  {
   "cell_type": "code",
   "execution_count": 1,
   "metadata": {},
   "outputs": [],
   "source": [
    "# import the necessary libraries we need for your analysis\n",
    "import pandas as pd\n",
    "import numpy as np\n",
    "import matplotlib.pyplot as plt\n",
    "import seaborn as sns\n",
    "\n",
    "from sklearn.preprocessing import OneHotEncoder, LabelEncoder\n",
    "from sklearn.model_selection import train_test_split\n",
    "\n",
    "from sklearn.linear_model import LinearRegression\n",
    "from xgboost import XGBRegressor\n",
    "from sklearn.ensemble import RandomForestClassifier\n",
    "\n",
    "from sklearn.linear_model import SGDClassifier\n",
    "from sklearn.preprocessing import StandardScaler, MinMaxScaler\n",
    "import sys\n",
    "from io import StringIO\n",
    "\n",
    "from sklearn.metrics import r2_score, accuracy_score, mean_squared_error\n",
    "\n",
    "RSEED =  0\n",
    "\n",
    "import warnings\n",
    "warnings.filterwarnings('ignore')"
   ]
  },
  {
   "cell_type": "code",
   "execution_count": 2,
   "metadata": {},
   "outputs": [],
   "source": [
    "import os\n",
    "import sys\n",
    "module_path = os.path.abspath(os.path.join('..'))\n",
    "if module_path not in sys.path:\n",
    "    sys.path.append(module_path)\n",
    "    \n",
    "import project_fun as prj\n",
    "\n",
    "## alternative way of doing the same\n",
    "#import sys;\n",
    "#sys.path.insert(0,'..')\n",
    "#import project_fun as prj"
   ]
  },
  {
   "cell_type": "code",
   "execution_count": 3,
   "metadata": {},
   "outputs": [],
   "source": [
    "df = pd.read_csv('../data/Train_cleaned.csv',delimiter=';')"
   ]
  },
  {
   "cell_type": "code",
   "execution_count": 4,
   "metadata": {},
   "outputs": [
    {
     "data": {
      "text/html": [
       "<div>\n",
       "<style scoped>\n",
       "    .dataframe tbody tr th:only-of-type {\n",
       "        vertical-align: middle;\n",
       "    }\n",
       "\n",
       "    .dataframe tbody tr th {\n",
       "        vertical-align: top;\n",
       "    }\n",
       "\n",
       "    .dataframe thead th {\n",
       "        text-align: right;\n",
       "    }\n",
       "</style>\n",
       "<table border=\"1\" class=\"dataframe\">\n",
       "  <thead>\n",
       "    <tr style=\"text-align: right;\">\n",
       "      <th></th>\n",
       "      <th>DATOP</th>\n",
       "      <th>FLTID</th>\n",
       "      <th>DEPSTN</th>\n",
       "      <th>ARRSTN</th>\n",
       "      <th>STD</th>\n",
       "      <th>STA</th>\n",
       "      <th>AC</th>\n",
       "      <th>target</th>\n",
       "      <th>hour_STA</th>\n",
       "      <th>hour_STD</th>\n",
       "      <th>...</th>\n",
       "      <th>season_num</th>\n",
       "      <th>outcome</th>\n",
       "      <th>country_arr</th>\n",
       "      <th>elevation_arr</th>\n",
       "      <th>lat_arr</th>\n",
       "      <th>lon_arr</th>\n",
       "      <th>country_dep</th>\n",
       "      <th>elevation_dep</th>\n",
       "      <th>lat_dep</th>\n",
       "      <th>lon_dep</th>\n",
       "    </tr>\n",
       "  </thead>\n",
       "  <tbody>\n",
       "    <tr>\n",
       "      <th>0</th>\n",
       "      <td>2016-01-03 00:00:00</td>\n",
       "      <td>TU 0712</td>\n",
       "      <td>CMN</td>\n",
       "      <td>TUN</td>\n",
       "      <td>2016-01-03 10:30:00</td>\n",
       "      <td>2016-01-03 12:55:00</td>\n",
       "      <td>TU 32AIMN</td>\n",
       "      <td>260.0</td>\n",
       "      <td>12</td>\n",
       "      <td>10</td>\n",
       "      <td>...</td>\n",
       "      <td>3</td>\n",
       "      <td>1</td>\n",
       "      <td>TN</td>\n",
       "      <td>22</td>\n",
       "      <td>36.851002</td>\n",
       "      <td>10.22720</td>\n",
       "      <td>MA</td>\n",
       "      <td>656</td>\n",
       "      <td>33.367500</td>\n",
       "      <td>-7.58997</td>\n",
       "    </tr>\n",
       "    <tr>\n",
       "      <th>1</th>\n",
       "      <td>2016-01-13 00:00:00</td>\n",
       "      <td>TU 0757</td>\n",
       "      <td>MXP</td>\n",
       "      <td>TUN</td>\n",
       "      <td>2016-01-13 15:05:00</td>\n",
       "      <td>2016-01-13 16:55:00</td>\n",
       "      <td>TU 31BIMO</td>\n",
       "      <td>20.0</td>\n",
       "      <td>16</td>\n",
       "      <td>15</td>\n",
       "      <td>...</td>\n",
       "      <td>3</td>\n",
       "      <td>1</td>\n",
       "      <td>TN</td>\n",
       "      <td>22</td>\n",
       "      <td>36.851002</td>\n",
       "      <td>10.22720</td>\n",
       "      <td>IT</td>\n",
       "      <td>768</td>\n",
       "      <td>45.630600</td>\n",
       "      <td>8.72811</td>\n",
       "    </tr>\n",
       "    <tr>\n",
       "      <th>2</th>\n",
       "      <td>2016-01-16 00:00:00</td>\n",
       "      <td>TU 0214</td>\n",
       "      <td>TUN</td>\n",
       "      <td>IST</td>\n",
       "      <td>2016-01-16 04:10:00</td>\n",
       "      <td>2016-01-16 06:45:00</td>\n",
       "      <td>TU 32AIMN</td>\n",
       "      <td>0.0</td>\n",
       "      <td>6</td>\n",
       "      <td>4</td>\n",
       "      <td>...</td>\n",
       "      <td>3</td>\n",
       "      <td>0</td>\n",
       "      <td>TR</td>\n",
       "      <td>325</td>\n",
       "      <td>41.275333</td>\n",
       "      <td>28.75200</td>\n",
       "      <td>TN</td>\n",
       "      <td>22</td>\n",
       "      <td>36.851002</td>\n",
       "      <td>10.22720</td>\n",
       "    </tr>\n",
       "    <tr>\n",
       "      <th>3</th>\n",
       "      <td>2016-01-17 00:00:00</td>\n",
       "      <td>TU 0480</td>\n",
       "      <td>DJE</td>\n",
       "      <td>NTE</td>\n",
       "      <td>2016-01-17 14:10:00</td>\n",
       "      <td>2016-01-17 17:00:00</td>\n",
       "      <td>TU 736IOK</td>\n",
       "      <td>0.0</td>\n",
       "      <td>17</td>\n",
       "      <td>14</td>\n",
       "      <td>...</td>\n",
       "      <td>3</td>\n",
       "      <td>0</td>\n",
       "      <td>FR</td>\n",
       "      <td>90</td>\n",
       "      <td>47.153198</td>\n",
       "      <td>-1.61073</td>\n",
       "      <td>TN</td>\n",
       "      <td>19</td>\n",
       "      <td>33.875000</td>\n",
       "      <td>10.77550</td>\n",
       "    </tr>\n",
       "    <tr>\n",
       "      <th>4</th>\n",
       "      <td>2016-01-17 00:00:00</td>\n",
       "      <td>TU 0338</td>\n",
       "      <td>TUN</td>\n",
       "      <td>ALG</td>\n",
       "      <td>2016-01-17 14:30:00</td>\n",
       "      <td>2016-01-17 15:50:00</td>\n",
       "      <td>TU 320IMU</td>\n",
       "      <td>22.0</td>\n",
       "      <td>15</td>\n",
       "      <td>14</td>\n",
       "      <td>...</td>\n",
       "      <td>3</td>\n",
       "      <td>1</td>\n",
       "      <td>DZ</td>\n",
       "      <td>82</td>\n",
       "      <td>36.691002</td>\n",
       "      <td>3.21541</td>\n",
       "      <td>TN</td>\n",
       "      <td>22</td>\n",
       "      <td>36.851002</td>\n",
       "      <td>10.22720</td>\n",
       "    </tr>\n",
       "  </tbody>\n",
       "</table>\n",
       "<p>5 rows × 25 columns</p>\n",
       "</div>"
      ],
      "text/plain": [
       "                 DATOP     FLTID DEPSTN ARRSTN                  STD  \\\n",
       "0  2016-01-03 00:00:00  TU 0712     CMN    TUN  2016-01-03 10:30:00   \n",
       "1  2016-01-13 00:00:00  TU 0757     MXP    TUN  2016-01-13 15:05:00   \n",
       "2  2016-01-16 00:00:00  TU 0214     TUN    IST  2016-01-16 04:10:00   \n",
       "3  2016-01-17 00:00:00  TU 0480     DJE    NTE  2016-01-17 14:10:00   \n",
       "4  2016-01-17 00:00:00  TU 0338     TUN    ALG  2016-01-17 14:30:00   \n",
       "\n",
       "                   STA         AC  target  hour_STA  hour_STD  ...  \\\n",
       "0  2016-01-03 12:55:00  TU 32AIMN   260.0        12        10  ...   \n",
       "1  2016-01-13 16:55:00  TU 31BIMO    20.0        16        15  ...   \n",
       "2  2016-01-16 06:45:00  TU 32AIMN     0.0         6         4  ...   \n",
       "3  2016-01-17 17:00:00  TU 736IOK     0.0        17        14  ...   \n",
       "4  2016-01-17 15:50:00  TU 320IMU    22.0        15        14  ...   \n",
       "\n",
       "   season_num  outcome  country_arr  elevation_arr    lat_arr   lon_arr  \\\n",
       "0           3        1           TN             22  36.851002  10.22720   \n",
       "1           3        1           TN             22  36.851002  10.22720   \n",
       "2           3        0           TR            325  41.275333  28.75200   \n",
       "3           3        0           FR             90  47.153198  -1.61073   \n",
       "4           3        1           DZ             82  36.691002   3.21541   \n",
       "\n",
       "   country_dep elevation_dep    lat_dep   lon_dep  \n",
       "0           MA           656  33.367500  -7.58997  \n",
       "1           IT           768  45.630600   8.72811  \n",
       "2           TN            22  36.851002  10.22720  \n",
       "3           TN            19  33.875000  10.77550  \n",
       "4           TN            22  36.851002  10.22720  \n",
       "\n",
       "[5 rows x 25 columns]"
      ]
     },
     "execution_count": 4,
     "metadata": {},
     "output_type": "execute_result"
    }
   ],
   "source": [
    "df.head()"
   ]
  },
  {
   "cell_type": "code",
   "execution_count": 5,
   "metadata": {},
   "outputs": [],
   "source": [
    "# 1) encode departure countries\n",
    "le1 = LabelEncoder()\n",
    "le1.fit(df['country_dep'])\n",
    "df['country_dep'] = le1.transform(df['country_dep'])\n",
    "\n",
    "# 2) encode arrival countries\n",
    "le2 = LabelEncoder()\n",
    "le2.fit(df['country_arr'])\n",
    "df['country_arr'] = le2.transform(df['country_arr'])\n",
    "\n",
    "# 2) encode flight id\n",
    "le3 = LabelEncoder()\n",
    "le3.fit(df['FLTID'])\n",
    "df['FLTID'] = le3.transform(df['FLTID'])"
   ]
  },
  {
   "cell_type": "code",
   "execution_count": 6,
   "metadata": {},
   "outputs": [
    {
     "data": {
      "text/plain": [
       "Index(['DATOP', 'FLTID', 'DEPSTN', 'ARRSTN', 'STD', 'STA', 'AC', 'target',\n",
       "       'hour_STA', 'hour_STD', 'month', 'year', 'day_of_week',\n",
       "       'scheduled_time_duration', 'season', 'season_num', 'outcome',\n",
       "       'country_arr', 'elevation_arr', 'lat_arr', 'lon_arr', 'country_dep',\n",
       "       'elevation_dep', 'lat_dep', 'lon_dep'],\n",
       "      dtype='object')"
      ]
     },
     "execution_count": 6,
     "metadata": {},
     "output_type": "execute_result"
    }
   ],
   "source": [
    "df.columns"
   ]
  },
  {
   "cell_type": "code",
   "execution_count": 7,
   "metadata": {},
   "outputs": [
    {
     "data": {
      "image/png": "[encoded data removed]",
      "text/plain": [
       "<Figure size 640x480 with 1 Axes>"
      ]
     },
     "metadata": {},
     "output_type": "display_data"
    }
   ],
   "source": [
    "#sns.set(style='whitegrid', palette=\"deep\", font_scale=1.1, rc={\"figure.figsize\": [8, 5]})\n",
    "sns.distplot(\n",
    "    df['target'], norm_hist=False, kde=False, bins=20, hist_kws={\"alpha\": 1}\n",
    ").set(xlabel='Flight delay(minutes)', ylabel='Count');"
   ]
  },
  {
   "cell_type": "code",
   "execution_count": 8,
   "metadata": {},
   "outputs": [
    {
     "data": {
      "text/html": [
       "<div>\n",
       "<style scoped>\n",
       "    .dataframe tbody tr th:only-of-type {\n",
       "        vertical-align: middle;\n",
       "    }\n",
       "\n",
       "    .dataframe tbody tr th {\n",
       "        vertical-align: top;\n",
       "    }\n",
       "\n",
       "    .dataframe thead th {\n",
       "        text-align: right;\n",
       "    }\n",
       "</style>\n",
       "<table border=\"1\" class=\"dataframe\">\n",
       "  <thead>\n",
       "    <tr style=\"text-align: right;\">\n",
       "      <th></th>\n",
       "      <th>DATOP</th>\n",
       "      <th>FLTID</th>\n",
       "      <th>DEPSTN</th>\n",
       "      <th>ARRSTN</th>\n",
       "      <th>STD</th>\n",
       "      <th>STA</th>\n",
       "      <th>AC</th>\n",
       "      <th>target</th>\n",
       "      <th>hour_STA</th>\n",
       "      <th>hour_STD</th>\n",
       "      <th>...</th>\n",
       "      <th>season_num</th>\n",
       "      <th>outcome</th>\n",
       "      <th>country_arr</th>\n",
       "      <th>elevation_arr</th>\n",
       "      <th>lat_arr</th>\n",
       "      <th>lon_arr</th>\n",
       "      <th>country_dep</th>\n",
       "      <th>elevation_dep</th>\n",
       "      <th>lat_dep</th>\n",
       "      <th>lon_dep</th>\n",
       "    </tr>\n",
       "  </thead>\n",
       "  <tbody>\n",
       "    <tr>\n",
       "      <th>0</th>\n",
       "      <td>2016-01-03 00:00:00</td>\n",
       "      <td>230</td>\n",
       "      <td>CMN</td>\n",
       "      <td>TUN</td>\n",
       "      <td>2016-01-03 10:30:00</td>\n",
       "      <td>2016-01-03 12:55:00</td>\n",
       "      <td>TU 32AIMN</td>\n",
       "      <td>260.0</td>\n",
       "      <td>12</td>\n",
       "      <td>10</td>\n",
       "      <td>...</td>\n",
       "      <td>3</td>\n",
       "      <td>1</td>\n",
       "      <td>48</td>\n",
       "      <td>22</td>\n",
       "      <td>36.851002</td>\n",
       "      <td>10.22720</td>\n",
       "      <td>31</td>\n",
       "      <td>656</td>\n",
       "      <td>33.367500</td>\n",
       "      <td>-7.58997</td>\n",
       "    </tr>\n",
       "    <tr>\n",
       "      <th>1</th>\n",
       "      <td>2016-01-13 00:00:00</td>\n",
       "      <td>257</td>\n",
       "      <td>MXP</td>\n",
       "      <td>TUN</td>\n",
       "      <td>2016-01-13 15:05:00</td>\n",
       "      <td>2016-01-13 16:55:00</td>\n",
       "      <td>TU 31BIMO</td>\n",
       "      <td>20.0</td>\n",
       "      <td>16</td>\n",
       "      <td>15</td>\n",
       "      <td>...</td>\n",
       "      <td>3</td>\n",
       "      <td>1</td>\n",
       "      <td>48</td>\n",
       "      <td>22</td>\n",
       "      <td>36.851002</td>\n",
       "      <td>10.22720</td>\n",
       "      <td>26</td>\n",
       "      <td>768</td>\n",
       "      <td>45.630600</td>\n",
       "      <td>8.72811</td>\n",
       "    </tr>\n",
       "    <tr>\n",
       "      <th>2</th>\n",
       "      <td>2016-01-16 00:00:00</td>\n",
       "      <td>86</td>\n",
       "      <td>TUN</td>\n",
       "      <td>IST</td>\n",
       "      <td>2016-01-16 04:10:00</td>\n",
       "      <td>2016-01-16 06:45:00</td>\n",
       "      <td>TU 32AIMN</td>\n",
       "      <td>0.0</td>\n",
       "      <td>6</td>\n",
       "      <td>4</td>\n",
       "      <td>...</td>\n",
       "      <td>3</td>\n",
       "      <td>0</td>\n",
       "      <td>49</td>\n",
       "      <td>325</td>\n",
       "      <td>41.275333</td>\n",
       "      <td>28.75200</td>\n",
       "      <td>51</td>\n",
       "      <td>22</td>\n",
       "      <td>36.851002</td>\n",
       "      <td>10.22720</td>\n",
       "    </tr>\n",
       "    <tr>\n",
       "      <th>3</th>\n",
       "      <td>2016-01-17 00:00:00</td>\n",
       "      <td>164</td>\n",
       "      <td>DJE</td>\n",
       "      <td>NTE</td>\n",
       "      <td>2016-01-17 14:10:00</td>\n",
       "      <td>2016-01-17 17:00:00</td>\n",
       "      <td>TU 736IOK</td>\n",
       "      <td>0.0</td>\n",
       "      <td>17</td>\n",
       "      <td>14</td>\n",
       "      <td>...</td>\n",
       "      <td>3</td>\n",
       "      <td>0</td>\n",
       "      <td>17</td>\n",
       "      <td>90</td>\n",
       "      <td>47.153198</td>\n",
       "      <td>-1.61073</td>\n",
       "      <td>51</td>\n",
       "      <td>19</td>\n",
       "      <td>33.875000</td>\n",
       "      <td>10.77550</td>\n",
       "    </tr>\n",
       "    <tr>\n",
       "      <th>4</th>\n",
       "      <td>2016-01-17 00:00:00</td>\n",
       "      <td>136</td>\n",
       "      <td>TUN</td>\n",
       "      <td>ALG</td>\n",
       "      <td>2016-01-17 14:30:00</td>\n",
       "      <td>2016-01-17 15:50:00</td>\n",
       "      <td>TU 320IMU</td>\n",
       "      <td>22.0</td>\n",
       "      <td>15</td>\n",
       "      <td>14</td>\n",
       "      <td>...</td>\n",
       "      <td>3</td>\n",
       "      <td>1</td>\n",
       "      <td>14</td>\n",
       "      <td>82</td>\n",
       "      <td>36.691002</td>\n",
       "      <td>3.21541</td>\n",
       "      <td>51</td>\n",
       "      <td>22</td>\n",
       "      <td>36.851002</td>\n",
       "      <td>10.22720</td>\n",
       "    </tr>\n",
       "  </tbody>\n",
       "</table>\n",
       "<p>5 rows × 25 columns</p>\n",
       "</div>"
      ],
      "text/plain": [
       "                 DATOP  FLTID DEPSTN ARRSTN                  STD  \\\n",
       "0  2016-01-03 00:00:00    230    CMN    TUN  2016-01-03 10:30:00   \n",
       "1  2016-01-13 00:00:00    257    MXP    TUN  2016-01-13 15:05:00   \n",
       "2  2016-01-16 00:00:00     86    TUN    IST  2016-01-16 04:10:00   \n",
       "3  2016-01-17 00:00:00    164    DJE    NTE  2016-01-17 14:10:00   \n",
       "4  2016-01-17 00:00:00    136    TUN    ALG  2016-01-17 14:30:00   \n",
       "\n",
       "                   STA         AC  target  hour_STA  hour_STD  ...  \\\n",
       "0  2016-01-03 12:55:00  TU 32AIMN   260.0        12        10  ...   \n",
       "1  2016-01-13 16:55:00  TU 31BIMO    20.0        16        15  ...   \n",
       "2  2016-01-16 06:45:00  TU 32AIMN     0.0         6         4  ...   \n",
       "3  2016-01-17 17:00:00  TU 736IOK     0.0        17        14  ...   \n",
       "4  2016-01-17 15:50:00  TU 320IMU    22.0        15        14  ...   \n",
       "\n",
       "   season_num  outcome  country_arr  elevation_arr    lat_arr   lon_arr  \\\n",
       "0           3        1           48             22  36.851002  10.22720   \n",
       "1           3        1           48             22  36.851002  10.22720   \n",
       "2           3        0           49            325  41.275333  28.75200   \n",
       "3           3        0           17             90  47.153198  -1.61073   \n",
       "4           3        1           14             82  36.691002   3.21541   \n",
       "\n",
       "   country_dep  elevation_dep    lat_dep   lon_dep  \n",
       "0           31            656  33.367500  -7.58997  \n",
       "1           26            768  45.630600   8.72811  \n",
       "2           51             22  36.851002  10.22720  \n",
       "3           51             19  33.875000  10.77550  \n",
       "4           51             22  36.851002  10.22720  \n",
       "\n",
       "[5 rows x 25 columns]"
      ]
     },
     "execution_count": 8,
     "metadata": {},
     "output_type": "execute_result"
    }
   ],
   "source": [
    "df.head()"
   ]
  },
  {
   "cell_type": "code",
   "execution_count": 9,
   "metadata": {},
   "outputs": [],
   "source": [
    "mask = df['target'] == 0\n",
    "mask_target = df[~mask]['target']"
   ]
  },
  {
   "cell_type": "code",
   "execution_count": 10,
   "metadata": {},
   "outputs": [
    {
     "data": {
      "text/plain": [
       "0         260.0\n",
       "1          20.0\n",
       "4          22.0\n",
       "5          53.0\n",
       "6          10.0\n",
       "          ...  \n",
       "106786      8.0\n",
       "106834     20.0\n",
       "106867     15.0\n",
       "106931     22.0\n",
       "107014     14.0\n",
       "Name: target, Length: 69207, dtype: float64"
      ]
     },
     "execution_count": 10,
     "metadata": {},
     "output_type": "execute_result"
    }
   ],
   "source": [
    "mask_target"
   ]
  },
  {
   "cell_type": "code",
   "execution_count": 11,
   "metadata": {},
   "outputs": [
    {
     "data": {
      "image/png": "[encoded data removed]",
      "text/plain": [
       "<Figure size 500x500 with 1 Axes>"
      ]
     },
     "metadata": {},
     "output_type": "display_data"
    }
   ],
   "source": [
    "mask = df['target'] != 0\n",
    "sns.displot(df, x=df[mask]['target'], kind=\"kde\",bw_adjust=5);"
   ]
  },
  {
   "cell_type": "code",
   "execution_count": 12,
   "metadata": {},
   "outputs": [
    {
     "data": {
      "image/png": "[encoded data removed]",
      "text/plain": [
       "<Figure size 800x500 with 1 Axes>"
      ]
     },
     "metadata": {},
     "output_type": "display_data"
    }
   ],
   "source": [
    "sns.set(style='whitegrid', palette=\"deep\", font_scale=1.1, rc={\"figure.figsize\": [8, 5]})\n",
    "sns.distplot(\n",
    "    df['scheduled_time_duration'], norm_hist=False, kde=False, bins=20, hist_kws={\"alpha\": 1}\n",
    ").set(xlabel='Scheduled flight(minutes)', ylabel='Count');"
   ]
  },
  {
   "cell_type": "code",
   "execution_count": 13,
   "metadata": {},
   "outputs": [],
   "source": [
    "df.drop(['DATOP','STA','STD','season','outcome','lat_arr','lon_arr','lat_dep','lon_dep'],axis=1,inplace=True)"
   ]
  },
  {
   "cell_type": "code",
   "execution_count": 14,
   "metadata": {},
   "outputs": [
    {
     "data": {
      "text/html": [
       "<div>\n",
       "<style scoped>\n",
       "    .dataframe tbody tr th:only-of-type {\n",
       "        vertical-align: middle;\n",
       "    }\n",
       "\n",
       "    .dataframe tbody tr th {\n",
       "        vertical-align: top;\n",
       "    }\n",
       "\n",
       "    .dataframe thead th {\n",
       "        text-align: right;\n",
       "    }\n",
       "</style>\n",
       "<table border=\"1\" class=\"dataframe\">\n",
       "  <thead>\n",
       "    <tr style=\"text-align: right;\">\n",
       "      <th></th>\n",
       "      <th>FLTID</th>\n",
       "      <th>DEPSTN</th>\n",
       "      <th>ARRSTN</th>\n",
       "      <th>AC</th>\n",
       "      <th>target</th>\n",
       "      <th>hour_STA</th>\n",
       "      <th>hour_STD</th>\n",
       "      <th>month</th>\n",
       "      <th>year</th>\n",
       "      <th>day_of_week</th>\n",
       "      <th>scheduled_time_duration</th>\n",
       "      <th>season_num</th>\n",
       "      <th>country_arr</th>\n",
       "      <th>elevation_arr</th>\n",
       "      <th>country_dep</th>\n",
       "      <th>elevation_dep</th>\n",
       "    </tr>\n",
       "  </thead>\n",
       "  <tbody>\n",
       "    <tr>\n",
       "      <th>72743</th>\n",
       "      <td>91</td>\n",
       "      <td>BEG</td>\n",
       "      <td>TUN</td>\n",
       "      <td>TU 320IMR</td>\n",
       "      <td>40.0</td>\n",
       "      <td>13</td>\n",
       "      <td>11</td>\n",
       "      <td>2</td>\n",
       "      <td>2018</td>\n",
       "      <td>1</td>\n",
       "      <td>120.0</td>\n",
       "      <td>3</td>\n",
       "      <td>48</td>\n",
       "      <td>22</td>\n",
       "      <td>41</td>\n",
       "      <td>335</td>\n",
       "    </tr>\n",
       "    <tr>\n",
       "      <th>79389</th>\n",
       "      <td>1161</td>\n",
       "      <td>JED</td>\n",
       "      <td>TUN</td>\n",
       "      <td>TU 332IFM</td>\n",
       "      <td>6.0</td>\n",
       "      <td>4</td>\n",
       "      <td>23</td>\n",
       "      <td>6</td>\n",
       "      <td>2018</td>\n",
       "      <td>1</td>\n",
       "      <td>295.0</td>\n",
       "      <td>1</td>\n",
       "      <td>48</td>\n",
       "      <td>22</td>\n",
       "      <td>44</td>\n",
       "      <td>48</td>\n",
       "    </tr>\n",
       "    <tr>\n",
       "      <th>64271</th>\n",
       "      <td>266</td>\n",
       "      <td>TUN</td>\n",
       "      <td>CAI</td>\n",
       "      <td>TU 31BIMQ</td>\n",
       "      <td>26.0</td>\n",
       "      <td>17</td>\n",
       "      <td>14</td>\n",
       "      <td>12</td>\n",
       "      <td>2017</td>\n",
       "      <td>5</td>\n",
       "      <td>180.0</td>\n",
       "      <td>3</td>\n",
       "      <td>15</td>\n",
       "      <td>382</td>\n",
       "      <td>51</td>\n",
       "      <td>22</td>\n",
       "    </tr>\n",
       "    <tr>\n",
       "      <th>68528</th>\n",
       "      <td>1751</td>\n",
       "      <td>TUN</td>\n",
       "      <td>SFA</td>\n",
       "      <td>TU CR9ISA</td>\n",
       "      <td>0.0</td>\n",
       "      <td>7</td>\n",
       "      <td>6</td>\n",
       "      <td>7</td>\n",
       "      <td>2017</td>\n",
       "      <td>1</td>\n",
       "      <td>45.0</td>\n",
       "      <td>1</td>\n",
       "      <td>48</td>\n",
       "      <td>85</td>\n",
       "      <td>51</td>\n",
       "      <td>22</td>\n",
       "    </tr>\n",
       "    <tr>\n",
       "      <th>103776</th>\n",
       "      <td>1749</td>\n",
       "      <td>DJE</td>\n",
       "      <td>TUN</td>\n",
       "      <td>UG AT7AT7</td>\n",
       "      <td>0.0</td>\n",
       "      <td>20</td>\n",
       "      <td>19</td>\n",
       "      <td>1</td>\n",
       "      <td>2018</td>\n",
       "      <td>1</td>\n",
       "      <td>60.0</td>\n",
       "      <td>3</td>\n",
       "      <td>48</td>\n",
       "      <td>22</td>\n",
       "      <td>51</td>\n",
       "      <td>19</td>\n",
       "    </tr>\n",
       "  </tbody>\n",
       "</table>\n",
       "</div>"
      ],
      "text/plain": [
       "        FLTID DEPSTN ARRSTN         AC  target  hour_STA  hour_STD  month  \\\n",
       "72743      91    BEG    TUN  TU 320IMR    40.0        13        11      2   \n",
       "79389    1161    JED    TUN  TU 332IFM     6.0         4        23      6   \n",
       "64271     266    TUN    CAI  TU 31BIMQ    26.0        17        14     12   \n",
       "68528    1751    TUN    SFA  TU CR9ISA     0.0         7         6      7   \n",
       "103776   1749    DJE    TUN  UG AT7AT7     0.0        20        19      1   \n",
       "\n",
       "        year  day_of_week  scheduled_time_duration  season_num  country_arr  \\\n",
       "72743   2018            1                    120.0           3           48   \n",
       "79389   2018            1                    295.0           1           48   \n",
       "64271   2017            5                    180.0           3           15   \n",
       "68528   2017            1                     45.0           1           48   \n",
       "103776  2018            1                     60.0           3           48   \n",
       "\n",
       "        elevation_arr  country_dep  elevation_dep  \n",
       "72743              22           41            335  \n",
       "79389              22           44             48  \n",
       "64271             382           51             22  \n",
       "68528              85           51             22  \n",
       "103776             22           51             19  "
      ]
     },
     "execution_count": 14,
     "metadata": {},
     "output_type": "execute_result"
    }
   ],
   "source": [
    "df.sample(5)"
   ]
  },
  {
   "cell_type": "code",
   "execution_count": 15,
   "metadata": {},
   "outputs": [],
   "source": [
    "# Define features and target\n",
    "y = df['target']\n",
    "X = df[['FLTID','hour_STA','hour_STD','month','year','scheduled_time_duration','country_dep','season_num','elevation_dep','day_of_week']]\n",
    "\n",
    "# Split the features and target data into training and testing sets\n",
    "X_train, X_test, y_train, y_test = train_test_split(X, y, random_state=RSEED, train_size = .8)"
   ]
  },
  {
   "cell_type": "markdown",
   "metadata": {},
   "source": [
    "## XGBoost regression"
   ]
  },
  {
   "cell_type": "code",
   "execution_count": 16,
   "metadata": {},
   "outputs": [],
   "source": [
    "xgb = XGBRegressor()\n",
    "\n",
    "#fit model\n",
    "xgb.fit(X_train, y_train)\n",
    "\n",
    "#predict model\n",
    "y_train_pred_xgb = xgb.predict(X_train)\n",
    "y_test_pred_xgb = xgb.predict(X_test)"
   ]
  },
  {
   "cell_type": "code",
   "execution_count": 17,
   "metadata": {},
   "outputs": [
    {
     "name": "stdout",
     "output_type": "stream",
     "text": [
      "Test_evaluation_metrics\n",
      "R-squared_xgb: 0.111\n",
      "RMSE-squared_xgb: 100.218\n",
      "-----------------\n",
      "Train_evaluation_metrics\n",
      "R-squared_xgb: 0.312\n",
      "RMSE-squared_xgb: 98.742\n"
     ]
    }
   ],
   "source": [
    "print('Test_evaluation_metrics')\n",
    "print(\"R-squared_xgb:\", r2_score(y_test, y_test_pred_xgb).round(3))\n",
    "print(\"RMSE-squared_xgb:\", mean_squared_error(y_test, y_test_pred_xgb, squared=False).round(3))\n",
    "print('-----------------')\n",
    "print('Train_evaluation_metrics')\n",
    "print(\"R-squared_xgb:\", r2_score(y_train, y_train_pred_xgb).round(3))\n",
    "print(\"RMSE-squared_xgb:\", mean_squared_error(y_train, y_train_pred_xgb, squared=False).round(3))"
   ]
  },
  {
   "cell_type": "code",
   "execution_count": 18,
   "metadata": {},
   "outputs": [
    {
     "data": {
      "text/plain": [
       "3529        0.0\n",
       "82449       0.0\n",
       "81823      31.0\n",
       "57938      10.0\n",
       "16375       0.0\n",
       "          ...  \n",
       "65167     655.0\n",
       "105232      0.0\n",
       "77269       0.0\n",
       "31791       0.0\n",
       "60915     108.0\n",
       "Name: target, Length: 21435, dtype: float64"
      ]
     },
     "execution_count": 18,
     "metadata": {},
     "output_type": "execute_result"
    }
   ],
   "source": [
    "y_test"
   ]
  },
  {
   "cell_type": "code",
   "execution_count": 19,
   "metadata": {},
   "outputs": [
    {
     "ename": "ValueError",
     "evalue": "DataFrame constructor not properly called!",
     "output_type": "error",
     "traceback": [
      "\u001b[0;31m---------------------------------------------------------------------------\u001b[0m",
      "\u001b[0;31mValueError\u001b[0m                                Traceback (most recent call last)",
      "Cell \u001b[0;32mIn [19], line 1\u001b[0m\n\u001b[0;32m----> 1\u001b[0m df \u001b[39m=\u001b[39m pd\u001b[39m.\u001b[39mDataFrame(\u001b[39m'\u001b[39m\u001b[39my_test\u001b[39m\u001b[39m'\u001b[39m)\n\u001b[1;32m      2\u001b[0m sns\u001b[39m.\u001b[39mkdeplot(df, \u001b[39m'\u001b[39m\u001b[39mx\u001b[39m\u001b[39m'\u001b[39m)\n",
      "File \u001b[0;32m~/neuefische/nf-flight-delay/.venv/lib/python3.9/site-packages/pandas/core/frame.py:730\u001b[0m, in \u001b[0;36mDataFrame.__init__\u001b[0;34m(self, data, index, columns, dtype, copy)\u001b[0m\n\u001b[1;32m    727\u001b[0m \u001b[39m# For data is scalar\u001b[39;00m\n\u001b[1;32m    728\u001b[0m \u001b[39melse\u001b[39;00m:\n\u001b[1;32m    729\u001b[0m     \u001b[39mif\u001b[39;00m index \u001b[39mis\u001b[39;00m \u001b[39mNone\u001b[39;00m \u001b[39mor\u001b[39;00m columns \u001b[39mis\u001b[39;00m \u001b[39mNone\u001b[39;00m:\n\u001b[0;32m--> 730\u001b[0m         \u001b[39mraise\u001b[39;00m \u001b[39mValueError\u001b[39;00m(\u001b[39m\"\u001b[39m\u001b[39mDataFrame constructor not properly called!\u001b[39m\u001b[39m\"\u001b[39m)\n\u001b[1;32m    732\u001b[0m     \u001b[39m# Argument 1 to \"ensure_index\" has incompatible type \"Collection[Any]\";\u001b[39;00m\n\u001b[1;32m    733\u001b[0m     \u001b[39m# expected \"Union[Union[Union[ExtensionArray, ndarray],\u001b[39;00m\n\u001b[1;32m    734\u001b[0m     \u001b[39m# Index, Series], Sequence[Any]]\"\u001b[39;00m\n\u001b[1;32m    735\u001b[0m     index \u001b[39m=\u001b[39m ensure_index(index)  \u001b[39m# type: ignore[arg-type]\u001b[39;00m\n",
      "\u001b[0;31mValueError\u001b[0m: DataFrame constructor not properly called!"
     ]
    }
   ],
   "source": [
    "df = pd.DataFrame('y_test')\n",
    "sns.kdeplot(df, 'x')"
   ]
  },
  {
   "cell_type": "markdown",
   "metadata": {},
   "source": [
    "## XGBoost with scaling"
   ]
  },
  {
   "cell_type": "markdown",
   "metadata": {},
   "source": [
    "### standard scaler"
   ]
  },
  {
   "cell_type": "code",
   "execution_count": 20,
   "metadata": {},
   "outputs": [],
   "source": [
    "X_train_sc = X_train.copy()\n",
    "X_test_sc = X_test.copy()"
   ]
  },
  {
   "cell_type": "code",
   "execution_count": 21,
   "metadata": {},
   "outputs": [],
   "source": [
    "scaler = StandardScaler()\n",
    "numerical = ['FLTID', 'year','scheduled_time_duration','elevation_dep']\n",
    "X_train_sc[numerical] = scaler.fit_transform(X_train_sc[numerical])\n",
    "X_test_sc[numerical] = scaler.transform(X_test_sc[numerical])\n",
    "\n",
    "#pd.DataFrame(X_train_sc[numerical])"
   ]
  },
  {
   "cell_type": "code",
   "execution_count": null,
   "metadata": {},
   "outputs": [],
   "source": [
    "X_train_sc"
   ]
  },
  {
   "cell_type": "code",
   "execution_count": null,
   "metadata": {},
   "outputs": [],
   "source": [
    "xgb_sc = XGBRegressor()\n",
    "\n",
    "#fit model\n",
    "xgb_sc.fit(X_train, y_train)\n",
    "\n",
    "#predict model\n",
    "y_train_pred_xgb_sc = xgb_sc.predict(X_train)\n",
    "y_test_pred_xgb_sc = xgb_sc.predict(X_test)"
   ]
  },
  {
   "cell_type": "code",
   "execution_count": null,
   "metadata": {},
   "outputs": [],
   "source": [
    "print('Test_evaluation_metrics_standardscaler')\n",
    "print(\"R-squared_xgb_sc:\", r2_score(y_test, y_test_pred_xgb_sc).round(3))\n",
    "print(\"RMSE-squared_xgb_sc:\", mean_squared_error(y_test, y_test_pred_xgb_sc, squared=False).round(3))\n",
    "print('-----------------')\n",
    "print('Train_evaluation_metrics')\n",
    "print(\"R-squared_xgb_sc:\", r2_score(y_train, y_train_pred_xgb_sc).round(3))\n",
    "print(\"RMSE-squared_xgb_sc:\", mean_squared_error(y_train, y_train_pred_xgb_sc, squared=False).round(3))"
   ]
  },
  {
   "cell_type": "markdown",
   "metadata": {},
   "source": [
    "## minmax_scaler"
   ]
  },
  {
   "cell_type": "code",
   "execution_count": null,
   "metadata": {},
   "outputs": [],
   "source": [
    "X_train_mm = X_train.copy()\n",
    "X_test_mm = X_test.copy()"
   ]
  },
  {
   "cell_type": "code",
   "execution_count": null,
   "metadata": {},
   "outputs": [],
   "source": [
    "scaler_mm = MinMaxScaler()\n",
    "numerical = ['FLTID', 'year','scheduled_time_duration','elevation_dep']\n",
    "X_train_mm[numerical] = scaler_mm.fit_transform(X_train_mm[numerical])\n",
    "X_test_mm[numerical] = scaler_mm.transform(X_test_mm[numerical])\n",
    "\n",
    "#pd.DataFrame(X_train_sc[numerical])"
   ]
  },
  {
   "cell_type": "code",
   "execution_count": null,
   "metadata": {},
   "outputs": [],
   "source": [
    "xgb_mm = XGBRegressor()\n",
    "\n",
    "#fit model\n",
    "xgb_mm.fit(X_train, y_train)\n",
    "\n",
    "#predict model\n",
    "y_train_pred_xgb_mm = xgb_sc.predict(X_train)\n",
    "y_test_pred_xgb_mm = xgb_sc.predict(X_test)"
   ]
  },
  {
   "cell_type": "code",
   "execution_count": null,
   "metadata": {},
   "outputs": [],
   "source": [
    "print('Test_evaluation_metrics_MinMaxscaler')\n",
    "print(\"R-squared_xgb_sc:\", r2_score(y_test, y_test_pred_xgb_mm).round(3))\n",
    "print(\"RMSE-squared_xgb_sc:\", mean_squared_error(y_test, y_test_pred_xgb_mm, squared=False).round(3))\n",
    "print('-----------------')\n",
    "print('Train_evaluation_metrics')\n",
    "print(\"R-squared_xgb_sc:\", r2_score(y_train, y_train_pred_xgb_mm).round(3))\n",
    "print(\"RMSE-squared_xgb_sc:\", mean_squared_error(y_train, y_train_pred_xgb_mm, squared=False).round(3))"
   ]
  },
  {
   "cell_type": "code",
   "execution_count": 22,
   "metadata": {},
   "outputs": [
    {
     "name": "stdout",
     "output_type": "stream",
     "text": [
      "Metrics on training data\n",
      "RMSE: 98.742\n",
      "R2: 0.312\n",
      "------------------------------\n",
      "Metrics on test data\n",
      "RMSE: 100.218\n",
      "R2: 0.111\n",
      "------------------------------\n"
     ]
    }
   ],
   "source": [
    "prj.calculate_metrics(y_train, y_train_pred_xgb, y_test, y_test_pred_xgb)"
   ]
  },
  {
   "cell_type": "code",
   "execution_count": 42,
   "metadata": {},
   "outputs": [
    {
     "data": {
      "image/png": "[encoded data removed]",
      "text/plain": [
       "<Figure size 800x500 with 1 Axes>"
      ]
     },
     "metadata": {},
     "output_type": "display_data"
    }
   ],
   "source": [
    "plt.hist(y_test, bins=20,alpha=0.7) # blue is the true value\n",
    "plt.hist(y_test_pred_xgb,bins = 20, color=\"#FF5A36\", alpha=0.7) #orange is the predicted\n",
    "plt.xlim([0,1000]);"
   ]
  },
  {
   "cell_type": "markdown",
   "metadata": {},
   "source": [
    "# Random Forest regressor"
   ]
  },
  {
   "cell_type": "code",
   "execution_count": null,
   "metadata": {},
   "outputs": [],
   "source": [
    "from sklearn.ensemble import RandomForestRegressor"
   ]
  },
  {
   "cell_type": "code",
   "execution_count": null,
   "metadata": {},
   "outputs": [],
   "source": [
    "rf_reg = RandomForestRegressor(max_depth=2, random_state=0)\n",
    "rf_reg.fit(X_train,y_train)\n",
    "\n",
    "y_train_pred_rf = rf_reg.predict(X_train)\n",
    "y_test_pred_rf = rf_reg.predict(X_test)"
   ]
  },
  {
   "cell_type": "code",
   "execution_count": null,
   "metadata": {},
   "outputs": [],
   "source": [
    "prj.calculate_metrics(y_train, y_train_pred_rf, y_test, y_test_pred_rf)"
   ]
  },
  {
   "cell_type": "markdown",
   "metadata": {},
   "source": [
    "# Adaboost"
   ]
  },
  {
   "cell_type": "code",
   "execution_count": null,
   "metadata": {},
   "outputs": [],
   "source": [
    "from sklearn.ensemble import AdaBoostRegressor\n",
    "from sklearn.tree import DecisionTreeRegressor"
   ]
  },
  {
   "cell_type": "code",
   "execution_count": null,
   "metadata": {},
   "outputs": [],
   "source": [
    "ab_reg = AdaBoostRegressor(random_state=10, n_estimators=100)\n",
    "ab_reg.fit(X_train,y_train)\n",
    "y_train_pred_ab = ab_reg.predict(X_train)\n",
    "y_test_pred_ab = ab_reg.predict(X_test)"
   ]
  },
  {
   "cell_type": "code",
   "execution_count": null,
   "metadata": {},
   "outputs": [],
   "source": [
    "prj.calculate_metrics(y_train, y_train_pred_ab, y_test, y_test_pred_ab)"
   ]
  },
  {
   "cell_type": "code",
   "execution_count": null,
   "metadata": {},
   "outputs": [],
   "source": [
    "# Import 'GridSearchCV', 'make_scorer', and any other necessary libraries\n",
    "from sklearn.model_selection import GridSearchCV\n",
    "from sklearn.metrics import make_scorer,fbeta_score\n",
    "\n",
    "# Initialize the classifier\n",
    "clf = AdaBoostRegressor(base_estimator=DecisionTreeRegressor()) \n",
    "\n",
    "# Create the parameters list you wish to tune\n",
    "parameters = {'n_estimators':[50, 120],                \n",
    "              'learning_rate':[0.1, 0.5, 1.],               \n",
    "              'base_estimator__min_samples_split' : np.arange(2, 8, 2),               \n",
    "              'base_estimator__max_depth' : np.arange(1, 4, 1)              \n",
    "             } \n",
    "\n",
    "# Make an fbeta_score scoring object\n",
    "scorer = make_scorer(fbeta_score,beta=0.5) "
   ]
  },
  {
   "cell_type": "code",
   "execution_count": null,
   "metadata": {},
   "outputs": [],
   "source": [
    "# Perform grid search on the classifier using 'scorer' as the scoring method\n",
    "adaboost_gs = GridSearchCV(clf, param_grid=parameters, scoring = scorer, cv = 5, n_jobs = -1)\n",
    "\n",
    "# Fit the grid search object to the training data and find the optimal parameters\n",
    "adaboost_gs.fit(X_train,y_train)"
   ]
  },
  {
   "cell_type": "code",
   "execution_count": null,
   "metadata": {},
   "outputs": [],
   "source": [
    "# Get the  best estimator\n",
    "best_clf = adaboost_gs.best_estimator_\n",
    "best_clf"
   ]
  },
  {
   "cell_type": "code",
   "execution_count": null,
   "metadata": {},
   "outputs": [],
   "source": [
    "clf.fit(X_train,y_train)\n",
    "\n",
    "# Make predictions using the unoptimized model\n",
    "predictions = clf.predict(X_test)\n",
    "predictions_train = clf.predict(X_train)\n",
    "\n",
    "\n",
    "# Make predictions using the optimized model\n",
    "best_predictions = best_clf.predict(X_test)\n",
    "best_predictions_train = best_clf.predict(X_train)\n"
   ]
  },
  {
   "cell_type": "code",
   "execution_count": null,
   "metadata": {},
   "outputs": [],
   "source": [
    "print('unoptimized model')\n",
    "prj.calculate_metrics(y_train, best_predictions_train, y_test, best_predictions)"
   ]
  },
  {
   "cell_type": "code",
   "execution_count": null,
   "metadata": {},
   "outputs": [],
   "source": [
    "print('optimized model')\n",
    "prj.calculate_metrics(y_train, best_predictions_train, y_test, best_predictions)"
   ]
  }
 ],
 "metadata": {
  "kernelspec": {
   "display_name": "Python 3.9.8 ('.venv': venv)",
   "language": "python",
   "name": "python3"
  },
  "language_info": {
   "codemirror_mode": {
    "name": "ipython",
    "version": 3
   },
   "file_extension": ".py",
   "mimetype": "text/x-python",
   "name": "python",
   "nbconvert_exporter": "python",
   "pygments_lexer": "ipython3",
   "version": "3.9.8"
  },
  "orig_nbformat": 4,
  "vscode": {
   "interpreter": {
    "hash": "0bbfea5e7b059f73fc1689b57ec3abe520a49335fba45bf160716007f93e3189"
   }
  }
 },
 "nbformat": 4,
 "nbformat_minor": 2
}
