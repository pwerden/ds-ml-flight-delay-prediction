{
 "cells": [
  {
   "cell_type": "code",
   "execution_count": 1,
   "metadata": {},
   "outputs": [],
   "source": [
    "# import the necessary libraries we need for your analysis\n",
    "import pandas as pd\n",
    "import numpy as np\n",
    "import matplotlib.pyplot as plt\n",
    "import seaborn as sns\n",
    "\n",
    "from sklearn.preprocessing import OneHotEncoder, LabelEncoder\n",
    "from sklearn.model_selection import train_test_split\n",
    "\n",
    "from sklearn.linear_model import LinearRegression\n",
    "from xgboost import XGBRegressor\n",
    "from sklearn.ensemble import RandomForestClassifier\n",
    "\n",
    "from sklearn.linear_model import SGDClassifier\n",
    "from sklearn.preprocessing import StandardScaler, MinMaxScaler\n",
    "import sys\n",
    "from io import StringIO\n",
    "\n",
    "from sklearn.metrics import r2_score, accuracy_score, mean_squared_error\n",
    "\n",
    "RSEED =  0\n",
    "\n",
    "import warnings\n",
    "warnings.filterwarnings('ignore')"
   ]
  },
  {
   "cell_type": "code",
   "execution_count": 3,
   "metadata": {},
   "outputs": [],
   "source": [
    "# Importing python file from the parent directory\n",
    "import os\n",
    "import sys\n",
    "module_path = os.path.abspath(os.path.join('..'))\n",
    "if module_path not in sys.path:\n",
    "    sys.path.append(module_path)\n",
    "import project_fun as prj\n",
    "    \n",
    "## alternative way of doing the same\n",
    "#import sys;\n",
    "#sys.path.insert(0,'..')\n",
    "#import project_fun as prj"
   ]
  },
  {
   "cell_type": "code",
   "execution_count": 4,
   "metadata": {},
   "outputs": [],
   "source": [
    "df = pd.read_csv('../data/Train_cleaned.csv',delimiter=';')"
   ]
  },
  {
   "cell_type": "code",
   "execution_count": 5,
   "metadata": {},
   "outputs": [
    {
     "data": {
      "text/html": [
       "<div>\n",
       "<style scoped>\n",
       "    .dataframe tbody tr th:only-of-type {\n",
       "        vertical-align: middle;\n",
       "    }\n",
       "\n",
       "    .dataframe tbody tr th {\n",
       "        vertical-align: top;\n",
       "    }\n",
       "\n",
       "    .dataframe thead th {\n",
       "        text-align: right;\n",
       "    }\n",
       "</style>\n",
       "<table border=\"1\" class=\"dataframe\">\n",
       "  <thead>\n",
       "    <tr style=\"text-align: right;\">\n",
       "      <th></th>\n",
       "      <th>DATOP</th>\n",
       "      <th>FLTID</th>\n",
       "      <th>DEPSTN</th>\n",
       "      <th>ARRSTN</th>\n",
       "      <th>STD</th>\n",
       "      <th>STA</th>\n",
       "      <th>AC</th>\n",
       "      <th>target</th>\n",
       "      <th>hour_STA</th>\n",
       "      <th>hour_STD</th>\n",
       "      <th>...</th>\n",
       "      <th>season_num</th>\n",
       "      <th>outcome</th>\n",
       "      <th>country_arr</th>\n",
       "      <th>elevation_arr</th>\n",
       "      <th>lat_arr</th>\n",
       "      <th>lon_arr</th>\n",
       "      <th>country_dep</th>\n",
       "      <th>elevation_dep</th>\n",
       "      <th>lat_dep</th>\n",
       "      <th>lon_dep</th>\n",
       "    </tr>\n",
       "  </thead>\n",
       "  <tbody>\n",
       "    <tr>\n",
       "      <th>0</th>\n",
       "      <td>2016-01-03 00:00:00</td>\n",
       "      <td>TU 0712</td>\n",
       "      <td>CMN</td>\n",
       "      <td>TUN</td>\n",
       "      <td>2016-01-03 10:30:00</td>\n",
       "      <td>2016-01-03 12:55:00</td>\n",
       "      <td>TU 32AIMN</td>\n",
       "      <td>260.0</td>\n",
       "      <td>12</td>\n",
       "      <td>10</td>\n",
       "      <td>...</td>\n",
       "      <td>3</td>\n",
       "      <td>1</td>\n",
       "      <td>TN</td>\n",
       "      <td>22</td>\n",
       "      <td>36.851002</td>\n",
       "      <td>10.22720</td>\n",
       "      <td>MA</td>\n",
       "      <td>656</td>\n",
       "      <td>33.367500</td>\n",
       "      <td>-7.58997</td>\n",
       "    </tr>\n",
       "    <tr>\n",
       "      <th>1</th>\n",
       "      <td>2016-01-13 00:00:00</td>\n",
       "      <td>TU 0757</td>\n",
       "      <td>MXP</td>\n",
       "      <td>TUN</td>\n",
       "      <td>2016-01-13 15:05:00</td>\n",
       "      <td>2016-01-13 16:55:00</td>\n",
       "      <td>TU 31BIMO</td>\n",
       "      <td>20.0</td>\n",
       "      <td>16</td>\n",
       "      <td>15</td>\n",
       "      <td>...</td>\n",
       "      <td>3</td>\n",
       "      <td>1</td>\n",
       "      <td>TN</td>\n",
       "      <td>22</td>\n",
       "      <td>36.851002</td>\n",
       "      <td>10.22720</td>\n",
       "      <td>IT</td>\n",
       "      <td>768</td>\n",
       "      <td>45.630600</td>\n",
       "      <td>8.72811</td>\n",
       "    </tr>\n",
       "    <tr>\n",
       "      <th>2</th>\n",
       "      <td>2016-01-16 00:00:00</td>\n",
       "      <td>TU 0214</td>\n",
       "      <td>TUN</td>\n",
       "      <td>IST</td>\n",
       "      <td>2016-01-16 04:10:00</td>\n",
       "      <td>2016-01-16 06:45:00</td>\n",
       "      <td>TU 32AIMN</td>\n",
       "      <td>0.0</td>\n",
       "      <td>6</td>\n",
       "      <td>4</td>\n",
       "      <td>...</td>\n",
       "      <td>3</td>\n",
       "      <td>0</td>\n",
       "      <td>TR</td>\n",
       "      <td>325</td>\n",
       "      <td>41.275333</td>\n",
       "      <td>28.75200</td>\n",
       "      <td>TN</td>\n",
       "      <td>22</td>\n",
       "      <td>36.851002</td>\n",
       "      <td>10.22720</td>\n",
       "    </tr>\n",
       "    <tr>\n",
       "      <th>3</th>\n",
       "      <td>2016-01-17 00:00:00</td>\n",
       "      <td>TU 0480</td>\n",
       "      <td>DJE</td>\n",
       "      <td>NTE</td>\n",
       "      <td>2016-01-17 14:10:00</td>\n",
       "      <td>2016-01-17 17:00:00</td>\n",
       "      <td>TU 736IOK</td>\n",
       "      <td>0.0</td>\n",
       "      <td>17</td>\n",
       "      <td>14</td>\n",
       "      <td>...</td>\n",
       "      <td>3</td>\n",
       "      <td>0</td>\n",
       "      <td>FR</td>\n",
       "      <td>90</td>\n",
       "      <td>47.153198</td>\n",
       "      <td>-1.61073</td>\n",
       "      <td>TN</td>\n",
       "      <td>19</td>\n",
       "      <td>33.875000</td>\n",
       "      <td>10.77550</td>\n",
       "    </tr>\n",
       "    <tr>\n",
       "      <th>4</th>\n",
       "      <td>2016-01-17 00:00:00</td>\n",
       "      <td>TU 0338</td>\n",
       "      <td>TUN</td>\n",
       "      <td>ALG</td>\n",
       "      <td>2016-01-17 14:30:00</td>\n",
       "      <td>2016-01-17 15:50:00</td>\n",
       "      <td>TU 320IMU</td>\n",
       "      <td>22.0</td>\n",
       "      <td>15</td>\n",
       "      <td>14</td>\n",
       "      <td>...</td>\n",
       "      <td>3</td>\n",
       "      <td>1</td>\n",
       "      <td>DZ</td>\n",
       "      <td>82</td>\n",
       "      <td>36.691002</td>\n",
       "      <td>3.21541</td>\n",
       "      <td>TN</td>\n",
       "      <td>22</td>\n",
       "      <td>36.851002</td>\n",
       "      <td>10.22720</td>\n",
       "    </tr>\n",
       "  </tbody>\n",
       "</table>\n",
       "<p>5 rows × 25 columns</p>\n",
       "</div>"
      ],
      "text/plain": [
       "                 DATOP     FLTID DEPSTN ARRSTN                  STD  \\\n",
       "0  2016-01-03 00:00:00  TU 0712     CMN    TUN  2016-01-03 10:30:00   \n",
       "1  2016-01-13 00:00:00  TU 0757     MXP    TUN  2016-01-13 15:05:00   \n",
       "2  2016-01-16 00:00:00  TU 0214     TUN    IST  2016-01-16 04:10:00   \n",
       "3  2016-01-17 00:00:00  TU 0480     DJE    NTE  2016-01-17 14:10:00   \n",
       "4  2016-01-17 00:00:00  TU 0338     TUN    ALG  2016-01-17 14:30:00   \n",
       "\n",
       "                   STA         AC  target  hour_STA  hour_STD  ...  \\\n",
       "0  2016-01-03 12:55:00  TU 32AIMN   260.0        12        10  ...   \n",
       "1  2016-01-13 16:55:00  TU 31BIMO    20.0        16        15  ...   \n",
       "2  2016-01-16 06:45:00  TU 32AIMN     0.0         6         4  ...   \n",
       "3  2016-01-17 17:00:00  TU 736IOK     0.0        17        14  ...   \n",
       "4  2016-01-17 15:50:00  TU 320IMU    22.0        15        14  ...   \n",
       "\n",
       "   season_num  outcome  country_arr  elevation_arr    lat_arr   lon_arr  \\\n",
       "0           3        1           TN             22  36.851002  10.22720   \n",
       "1           3        1           TN             22  36.851002  10.22720   \n",
       "2           3        0           TR            325  41.275333  28.75200   \n",
       "3           3        0           FR             90  47.153198  -1.61073   \n",
       "4           3        1           DZ             82  36.691002   3.21541   \n",
       "\n",
       "   country_dep elevation_dep    lat_dep   lon_dep  \n",
       "0           MA           656  33.367500  -7.58997  \n",
       "1           IT           768  45.630600   8.72811  \n",
       "2           TN            22  36.851002  10.22720  \n",
       "3           TN            19  33.875000  10.77550  \n",
       "4           TN            22  36.851002  10.22720  \n",
       "\n",
       "[5 rows x 25 columns]"
      ]
     },
     "execution_count": 5,
     "metadata": {},
     "output_type": "execute_result"
    }
   ],
   "source": [
    "df.head()"
   ]
  },
  {
   "cell_type": "code",
   "execution_count": 6,
   "metadata": {},
   "outputs": [],
   "source": [
    "# 1) encode departure countries\n",
    "le1 = LabelEncoder()\n",
    "le1.fit(df['country_dep'])\n",
    "df['country_dep'] = le1.transform(df['country_dep'])\n",
    "\n",
    "# 2) encode arrival countries\n",
    "le2 = LabelEncoder()\n",
    "le2.fit(df['country_arr'])\n",
    "df['country_arr'] = le2.transform(df['country_arr'])\n",
    "\n",
    "# 2) encode flight id\n",
    "le3 = LabelEncoder()\n",
    "le3.fit(df['FLTID'])\n",
    "df['FLTID'] = le3.transform(df['FLTID'])"
   ]
  },
  {
   "cell_type": "code",
   "execution_count": 8,
   "metadata": {},
   "outputs": [
    {
     "data": {
      "text/html": [
       "<div>\n",
       "<style scoped>\n",
       "    .dataframe tbody tr th:only-of-type {\n",
       "        vertical-align: middle;\n",
       "    }\n",
       "\n",
       "    .dataframe tbody tr th {\n",
       "        vertical-align: top;\n",
       "    }\n",
       "\n",
       "    .dataframe thead th {\n",
       "        text-align: right;\n",
       "    }\n",
       "</style>\n",
       "<table border=\"1\" class=\"dataframe\">\n",
       "  <thead>\n",
       "    <tr style=\"text-align: right;\">\n",
       "      <th></th>\n",
       "      <th>DATOP</th>\n",
       "      <th>FLTID</th>\n",
       "      <th>DEPSTN</th>\n",
       "      <th>ARRSTN</th>\n",
       "      <th>STD</th>\n",
       "      <th>STA</th>\n",
       "      <th>AC</th>\n",
       "      <th>target</th>\n",
       "      <th>hour_STA</th>\n",
       "      <th>hour_STD</th>\n",
       "      <th>...</th>\n",
       "      <th>season_num</th>\n",
       "      <th>outcome</th>\n",
       "      <th>country_arr</th>\n",
       "      <th>elevation_arr</th>\n",
       "      <th>lat_arr</th>\n",
       "      <th>lon_arr</th>\n",
       "      <th>country_dep</th>\n",
       "      <th>elevation_dep</th>\n",
       "      <th>lat_dep</th>\n",
       "      <th>lon_dep</th>\n",
       "    </tr>\n",
       "  </thead>\n",
       "  <tbody>\n",
       "    <tr>\n",
       "      <th>0</th>\n",
       "      <td>2016-01-03 00:00:00</td>\n",
       "      <td>230</td>\n",
       "      <td>CMN</td>\n",
       "      <td>TUN</td>\n",
       "      <td>2016-01-03 10:30:00</td>\n",
       "      <td>2016-01-03 12:55:00</td>\n",
       "      <td>TU 32AIMN</td>\n",
       "      <td>260.0</td>\n",
       "      <td>12</td>\n",
       "      <td>10</td>\n",
       "      <td>...</td>\n",
       "      <td>3</td>\n",
       "      <td>1</td>\n",
       "      <td>48</td>\n",
       "      <td>22</td>\n",
       "      <td>36.851002</td>\n",
       "      <td>10.22720</td>\n",
       "      <td>31</td>\n",
       "      <td>656</td>\n",
       "      <td>33.367500</td>\n",
       "      <td>-7.58997</td>\n",
       "    </tr>\n",
       "    <tr>\n",
       "      <th>1</th>\n",
       "      <td>2016-01-13 00:00:00</td>\n",
       "      <td>257</td>\n",
       "      <td>MXP</td>\n",
       "      <td>TUN</td>\n",
       "      <td>2016-01-13 15:05:00</td>\n",
       "      <td>2016-01-13 16:55:00</td>\n",
       "      <td>TU 31BIMO</td>\n",
       "      <td>20.0</td>\n",
       "      <td>16</td>\n",
       "      <td>15</td>\n",
       "      <td>...</td>\n",
       "      <td>3</td>\n",
       "      <td>1</td>\n",
       "      <td>48</td>\n",
       "      <td>22</td>\n",
       "      <td>36.851002</td>\n",
       "      <td>10.22720</td>\n",
       "      <td>26</td>\n",
       "      <td>768</td>\n",
       "      <td>45.630600</td>\n",
       "      <td>8.72811</td>\n",
       "    </tr>\n",
       "    <tr>\n",
       "      <th>2</th>\n",
       "      <td>2016-01-16 00:00:00</td>\n",
       "      <td>86</td>\n",
       "      <td>TUN</td>\n",
       "      <td>IST</td>\n",
       "      <td>2016-01-16 04:10:00</td>\n",
       "      <td>2016-01-16 06:45:00</td>\n",
       "      <td>TU 32AIMN</td>\n",
       "      <td>0.0</td>\n",
       "      <td>6</td>\n",
       "      <td>4</td>\n",
       "      <td>...</td>\n",
       "      <td>3</td>\n",
       "      <td>0</td>\n",
       "      <td>49</td>\n",
       "      <td>325</td>\n",
       "      <td>41.275333</td>\n",
       "      <td>28.75200</td>\n",
       "      <td>51</td>\n",
       "      <td>22</td>\n",
       "      <td>36.851002</td>\n",
       "      <td>10.22720</td>\n",
       "    </tr>\n",
       "    <tr>\n",
       "      <th>3</th>\n",
       "      <td>2016-01-17 00:00:00</td>\n",
       "      <td>164</td>\n",
       "      <td>DJE</td>\n",
       "      <td>NTE</td>\n",
       "      <td>2016-01-17 14:10:00</td>\n",
       "      <td>2016-01-17 17:00:00</td>\n",
       "      <td>TU 736IOK</td>\n",
       "      <td>0.0</td>\n",
       "      <td>17</td>\n",
       "      <td>14</td>\n",
       "      <td>...</td>\n",
       "      <td>3</td>\n",
       "      <td>0</td>\n",
       "      <td>17</td>\n",
       "      <td>90</td>\n",
       "      <td>47.153198</td>\n",
       "      <td>-1.61073</td>\n",
       "      <td>51</td>\n",
       "      <td>19</td>\n",
       "      <td>33.875000</td>\n",
       "      <td>10.77550</td>\n",
       "    </tr>\n",
       "    <tr>\n",
       "      <th>4</th>\n",
       "      <td>2016-01-17 00:00:00</td>\n",
       "      <td>136</td>\n",
       "      <td>TUN</td>\n",
       "      <td>ALG</td>\n",
       "      <td>2016-01-17 14:30:00</td>\n",
       "      <td>2016-01-17 15:50:00</td>\n",
       "      <td>TU 320IMU</td>\n",
       "      <td>22.0</td>\n",
       "      <td>15</td>\n",
       "      <td>14</td>\n",
       "      <td>...</td>\n",
       "      <td>3</td>\n",
       "      <td>1</td>\n",
       "      <td>14</td>\n",
       "      <td>82</td>\n",
       "      <td>36.691002</td>\n",
       "      <td>3.21541</td>\n",
       "      <td>51</td>\n",
       "      <td>22</td>\n",
       "      <td>36.851002</td>\n",
       "      <td>10.22720</td>\n",
       "    </tr>\n",
       "  </tbody>\n",
       "</table>\n",
       "<p>5 rows × 25 columns</p>\n",
       "</div>"
      ],
      "text/plain": [
       "                 DATOP  FLTID DEPSTN ARRSTN                  STD  \\\n",
       "0  2016-01-03 00:00:00    230    CMN    TUN  2016-01-03 10:30:00   \n",
       "1  2016-01-13 00:00:00    257    MXP    TUN  2016-01-13 15:05:00   \n",
       "2  2016-01-16 00:00:00     86    TUN    IST  2016-01-16 04:10:00   \n",
       "3  2016-01-17 00:00:00    164    DJE    NTE  2016-01-17 14:10:00   \n",
       "4  2016-01-17 00:00:00    136    TUN    ALG  2016-01-17 14:30:00   \n",
       "\n",
       "                   STA         AC  target  hour_STA  hour_STD  ...  \\\n",
       "0  2016-01-03 12:55:00  TU 32AIMN   260.0        12        10  ...   \n",
       "1  2016-01-13 16:55:00  TU 31BIMO    20.0        16        15  ...   \n",
       "2  2016-01-16 06:45:00  TU 32AIMN     0.0         6         4  ...   \n",
       "3  2016-01-17 17:00:00  TU 736IOK     0.0        17        14  ...   \n",
       "4  2016-01-17 15:50:00  TU 320IMU    22.0        15        14  ...   \n",
       "\n",
       "   season_num  outcome  country_arr  elevation_arr    lat_arr   lon_arr  \\\n",
       "0           3        1           48             22  36.851002  10.22720   \n",
       "1           3        1           48             22  36.851002  10.22720   \n",
       "2           3        0           49            325  41.275333  28.75200   \n",
       "3           3        0           17             90  47.153198  -1.61073   \n",
       "4           3        1           14             82  36.691002   3.21541   \n",
       "\n",
       "   country_dep  elevation_dep    lat_dep   lon_dep  \n",
       "0           31            656  33.367500  -7.58997  \n",
       "1           26            768  45.630600   8.72811  \n",
       "2           51             22  36.851002  10.22720  \n",
       "3           51             19  33.875000  10.77550  \n",
       "4           51             22  36.851002  10.22720  \n",
       "\n",
       "[5 rows x 25 columns]"
      ]
     },
     "execution_count": 8,
     "metadata": {},
     "output_type": "execute_result"
    }
   ],
   "source": [
    "df.head()"
   ]
  },
  {
   "cell_type": "code",
   "execution_count": 13,
   "metadata": {},
   "outputs": [],
   "source": [
    "df.drop(['DATOP','STA','STD','season','outcome','lat_arr','lon_arr','lat_dep','lon_dep'],axis=1,inplace=True)"
   ]
  },
  {
   "cell_type": "code",
   "execution_count": 14,
   "metadata": {},
   "outputs": [
    {
     "data": {
      "text/html": [
       "<div>\n",
       "<style scoped>\n",
       "    .dataframe tbody tr th:only-of-type {\n",
       "        vertical-align: middle;\n",
       "    }\n",
       "\n",
       "    .dataframe tbody tr th {\n",
       "        vertical-align: top;\n",
       "    }\n",
       "\n",
       "    .dataframe thead th {\n",
       "        text-align: right;\n",
       "    }\n",
       "</style>\n",
       "<table border=\"1\" class=\"dataframe\">\n",
       "  <thead>\n",
       "    <tr style=\"text-align: right;\">\n",
       "      <th></th>\n",
       "      <th>FLTID</th>\n",
       "      <th>DEPSTN</th>\n",
       "      <th>ARRSTN</th>\n",
       "      <th>AC</th>\n",
       "      <th>target</th>\n",
       "      <th>hour_STA</th>\n",
       "      <th>hour_STD</th>\n",
       "      <th>month</th>\n",
       "      <th>year</th>\n",
       "      <th>day_of_week</th>\n",
       "      <th>scheduled_time_duration</th>\n",
       "      <th>season_num</th>\n",
       "      <th>country_arr</th>\n",
       "      <th>elevation_arr</th>\n",
       "      <th>country_dep</th>\n",
       "      <th>elevation_dep</th>\n",
       "    </tr>\n",
       "  </thead>\n",
       "  <tbody>\n",
       "    <tr>\n",
       "      <th>37411</th>\n",
       "      <td>176</td>\n",
       "      <td>BCN</td>\n",
       "      <td>TUN</td>\n",
       "      <td>TU 32AIMG</td>\n",
       "      <td>127.0</td>\n",
       "      <td>17</td>\n",
       "      <td>16</td>\n",
       "      <td>3</td>\n",
       "      <td>2017</td>\n",
       "      <td>4</td>\n",
       "      <td>95.0</td>\n",
       "      <td>0</td>\n",
       "      <td>48</td>\n",
       "      <td>22</td>\n",
       "      <td>17</td>\n",
       "      <td>12</td>\n",
       "    </tr>\n",
       "    <tr>\n",
       "      <th>26376</th>\n",
       "      <td>211</td>\n",
       "      <td>DJE</td>\n",
       "      <td>FRA</td>\n",
       "      <td>TU 31AIMJ</td>\n",
       "      <td>8.0</td>\n",
       "      <td>17</td>\n",
       "      <td>14</td>\n",
       "      <td>11</td>\n",
       "      <td>2016</td>\n",
       "      <td>5</td>\n",
       "      <td>175.0</td>\n",
       "      <td>2</td>\n",
       "      <td>11</td>\n",
       "      <td>364</td>\n",
       "      <td>51</td>\n",
       "      <td>19</td>\n",
       "    </tr>\n",
       "    <tr>\n",
       "      <th>7375</th>\n",
       "      <td>136</td>\n",
       "      <td>TUN</td>\n",
       "      <td>ALG</td>\n",
       "      <td>TU 320IMT</td>\n",
       "      <td>11.0</td>\n",
       "      <td>8</td>\n",
       "      <td>7</td>\n",
       "      <td>8</td>\n",
       "      <td>2016</td>\n",
       "      <td>3</td>\n",
       "      <td>80.0</td>\n",
       "      <td>1</td>\n",
       "      <td>14</td>\n",
       "      <td>82</td>\n",
       "      <td>51</td>\n",
       "      <td>22</td>\n",
       "    </tr>\n",
       "    <tr>\n",
       "      <th>101292</th>\n",
       "      <td>162</td>\n",
       "      <td>TUN</td>\n",
       "      <td>VCE</td>\n",
       "      <td>TU 32AIML</td>\n",
       "      <td>18.0</td>\n",
       "      <td>9</td>\n",
       "      <td>8</td>\n",
       "      <td>11</td>\n",
       "      <td>2018</td>\n",
       "      <td>6</td>\n",
       "      <td>100.0</td>\n",
       "      <td>2</td>\n",
       "      <td>24</td>\n",
       "      <td>7</td>\n",
       "      <td>51</td>\n",
       "      <td>22</td>\n",
       "    </tr>\n",
       "    <tr>\n",
       "      <th>98413</th>\n",
       "      <td>261</td>\n",
       "      <td>RTM</td>\n",
       "      <td>MIR</td>\n",
       "      <td>TU 32AIMF</td>\n",
       "      <td>250.0</td>\n",
       "      <td>19</td>\n",
       "      <td>16</td>\n",
       "      <td>10</td>\n",
       "      <td>2018</td>\n",
       "      <td>5</td>\n",
       "      <td>180.0</td>\n",
       "      <td>2</td>\n",
       "      <td>48</td>\n",
       "      <td>9</td>\n",
       "      <td>36</td>\n",
       "      <td>-15</td>\n",
       "    </tr>\n",
       "  </tbody>\n",
       "</table>\n",
       "</div>"
      ],
      "text/plain": [
       "        FLTID DEPSTN ARRSTN         AC  target  hour_STA  hour_STD  month  \\\n",
       "37411     176    BCN    TUN  TU 32AIMG   127.0        17        16      3   \n",
       "26376     211    DJE    FRA  TU 31AIMJ     8.0        17        14     11   \n",
       "7375      136    TUN    ALG  TU 320IMT    11.0         8         7      8   \n",
       "101292    162    TUN    VCE  TU 32AIML    18.0         9         8     11   \n",
       "98413     261    RTM    MIR  TU 32AIMF   250.0        19        16     10   \n",
       "\n",
       "        year  day_of_week  scheduled_time_duration  season_num  country_arr  \\\n",
       "37411   2017            4                     95.0           0           48   \n",
       "26376   2016            5                    175.0           2           11   \n",
       "7375    2016            3                     80.0           1           14   \n",
       "101292  2018            6                    100.0           2           24   \n",
       "98413   2018            5                    180.0           2           48   \n",
       "\n",
       "        elevation_arr  country_dep  elevation_dep  \n",
       "37411              22           17             12  \n",
       "26376             364           51             19  \n",
       "7375               82           51             22  \n",
       "101292              7           51             22  \n",
       "98413               9           36            -15  "
      ]
     },
     "execution_count": 14,
     "metadata": {},
     "output_type": "execute_result"
    }
   ],
   "source": [
    "df.sample(5) #random "
   ]
  },
  {
   "cell_type": "code",
   "execution_count": 16,
   "metadata": {},
   "outputs": [],
   "source": [
    "# Define features and target\n",
    "y = df['target']\n",
    "X = df[['FLTID','hour_STA','hour_STD','month','year','day_of_week','scheduled_time_duration','season_num','country_dep','elevation_dep']]\n",
    "\n",
    "# Split the features and target data into training and testing sets\n",
    "X_train, X_test, y_train, y_test = train_test_split(X, y, random_state=RSEED, train_size = .8)"
   ]
  },
  {
   "cell_type": "markdown",
   "metadata": {},
   "source": [
    "## XGBoost regression"
   ]
  },
  {
   "cell_type": "code",
   "execution_count": 17,
   "metadata": {},
   "outputs": [],
   "source": [
    "xgb = XGBRegressor()\n",
    "\n",
    "#fit model\n",
    "xgb.fit(X_train, y_train)\n",
    "\n",
    "#predict model\n",
    "y_train_pred_xgb = xgb.predict(X_train)\n",
    "y_test_pred_xgb = xgb.predict(X_test)"
   ]
  },
  {
   "cell_type": "code",
   "execution_count": 18,
   "metadata": {},
   "outputs": [
    {
     "name": "stdout",
     "output_type": "stream",
     "text": [
      "Metrics on training data\n",
      "RMSE: 98.742\n",
      "R2: 0.312\n",
      "------------------------------\n",
      "Metrics on test data\n",
      "RMSE: 100.208\n",
      "R2: 0.111\n",
      "------------------------------\n"
     ]
    }
   ],
   "source": [
    "prj.calculate_metrics(y_train, y_train_pred_xgb, y_test, y_test_pred_xgb)"
   ]
  },
  {
   "cell_type": "markdown",
   "metadata": {},
   "source": [
    "## XGBoost with scaling"
   ]
  },
  {
   "cell_type": "markdown",
   "metadata": {},
   "source": [
    "### standard scaler"
   ]
  },
  {
   "cell_type": "code",
   "execution_count": 19,
   "metadata": {},
   "outputs": [],
   "source": [
    "X_train_sc = X_train.copy()\n",
    "X_test_sc = X_test.copy()"
   ]
  },
  {
   "cell_type": "code",
   "execution_count": 20,
   "metadata": {},
   "outputs": [],
   "source": [
    "scaler = StandardScaler()\n",
    "numerical = ['FLTID', 'year','scheduled_time_duration','elevation_dep']\n",
    "X_train_sc[numerical] = scaler.fit_transform(X_train_sc[numerical])\n",
    "X_test_sc[numerical] = scaler.transform(X_test_sc[numerical])\n",
    "\n",
    "#pd.DataFrame(X_train_sc[numerical])"
   ]
  },
  {
   "cell_type": "code",
   "execution_count": 21,
   "metadata": {},
   "outputs": [],
   "source": [
    "xgb_sc = XGBRegressor()\n",
    "\n",
    "#fit model\n",
    "xgb_sc.fit(X_train, y_train)\n",
    "\n",
    "#predict model\n",
    "y_train_pred_xgb_sc = xgb_sc.predict(X_train)\n",
    "y_test_pred_xgb_sc = xgb_sc.predict(X_test)"
   ]
  },
  {
   "cell_type": "code",
   "execution_count": 22,
   "metadata": {},
   "outputs": [
    {
     "name": "stdout",
     "output_type": "stream",
     "text": [
      "Metrics on training data\n",
      "RMSE: 98.742\n",
      "R2: 0.312\n",
      "------------------------------\n",
      "Metrics on test data\n",
      "RMSE: 100.208\n",
      "R2: 0.111\n",
      "------------------------------\n"
     ]
    }
   ],
   "source": [
    "prj.calculate_metrics(y_train, y_train_pred_xgb_sc, y_test, y_test_pred_xgb_sc)"
   ]
  },
  {
   "cell_type": "markdown",
   "metadata": {},
   "source": [
    "## minmax_scaler"
   ]
  },
  {
   "cell_type": "code",
   "execution_count": 23,
   "metadata": {},
   "outputs": [],
   "source": [
    "X_train_mm = X_train.copy()\n",
    "X_test_mm = X_test.copy()"
   ]
  },
  {
   "cell_type": "code",
   "execution_count": 24,
   "metadata": {},
   "outputs": [],
   "source": [
    "scaler_mm = MinMaxScaler()\n",
    "numerical = ['FLTID', 'year','scheduled_time_duration','elevation_dep']\n",
    "X_train_mm[numerical] = scaler_mm.fit_transform(X_train_mm[numerical])\n",
    "X_test_mm[numerical] = scaler_mm.transform(X_test_mm[numerical])"
   ]
  },
  {
   "cell_type": "code",
   "execution_count": 25,
   "metadata": {},
   "outputs": [],
   "source": [
    "xgb_mm = XGBRegressor()\n",
    "\n",
    "#fit model\n",
    "xgb_mm.fit(X_train, y_train)\n",
    "\n",
    "#predict model\n",
    "y_train_pred_xgb_mm = xgb_sc.predict(X_train)\n",
    "y_test_pred_xgb_mm = xgb_sc.predict(X_test)"
   ]
  },
  {
   "cell_type": "code",
   "execution_count": 26,
   "metadata": {},
   "outputs": [
    {
     "name": "stdout",
     "output_type": "stream",
     "text": [
      "Metrics on training data\n",
      "RMSE: 98.742\n",
      "R2: 0.312\n",
      "------------------------------\n",
      "Metrics on test data\n",
      "RMSE: 100.208\n",
      "R2: 0.111\n",
      "------------------------------\n"
     ]
    }
   ],
   "source": [
    "prj.calculate_metrics(y_train, y_train_pred_xgb_mm, y_test, y_test_pred_xgb_mm)"
   ]
  },
  {
   "cell_type": "markdown",
   "metadata": {},
   "source": [
    "XGBoost regression analysis gave similar results with and without scaling"
   ]
  },
  {
   "cell_type": "code",
   "execution_count": 27,
   "metadata": {},
   "outputs": [
    {
     "data": {
      "image/png": "[encoded data removed]",
      "text/plain": [
       "<Figure size 800x500 with 1 Axes>"
      ]
     },
     "metadata": {},
     "output_type": "display_data"
    }
   ],
   "source": [
    "plt.hist(y_test, bins=20,alpha=0.7) # blue is the true value\n",
    "plt.hist(y_test_pred_xgb,bins = 20, color=\"#FF5A36\", alpha=0.7) #orange is the predicted\n",
    "plt.xlim([0,1000]);"
   ]
  },
  {
   "cell_type": "markdown",
   "metadata": {},
   "source": [
    "# Random Forest regressor"
   ]
  },
  {
   "cell_type": "code",
   "execution_count": 28,
   "metadata": {},
   "outputs": [],
   "source": [
    "from sklearn.ensemble import RandomForestRegressor"
   ]
  },
  {
   "cell_type": "code",
   "execution_count": 33,
   "metadata": {},
   "outputs": [],
   "source": [
    "rf_reg = RandomForestRegressor(max_depth=4, random_state=10)\n",
    "rf_reg.fit(X_train,y_train)\n",
    "\n",
    "y_train_pred_rf = rf_reg.predict(X_train)\n",
    "y_test_pred_rf = rf_reg.predict(X_test)"
   ]
  },
  {
   "cell_type": "code",
   "execution_count": 34,
   "metadata": {},
   "outputs": [
    {
     "name": "stdout",
     "output_type": "stream",
     "text": [
      "Metrics on training data\n",
      "RMSE: 115.471\n",
      "R2: 0.059\n",
      "------------------------------\n",
      "Metrics on test data\n",
      "RMSE: 102.599\n",
      "R2: 0.068\n",
      "------------------------------\n"
     ]
    }
   ],
   "source": [
    "prj.calculate_metrics(y_train, y_train_pred_rf, y_test, y_test_pred_rf)"
   ]
  },
  {
   "cell_type": "markdown",
   "metadata": {},
   "source": [
    "# Adaboost regressor"
   ]
  },
  {
   "cell_type": "code",
   "execution_count": 35,
   "metadata": {},
   "outputs": [],
   "source": [
    "from sklearn.ensemble import AdaBoostRegressor\n",
    "from sklearn.tree import DecisionTreeRegressor"
   ]
  },
  {
   "cell_type": "code",
   "execution_count": 37,
   "metadata": {},
   "outputs": [],
   "source": [
    "ab_reg = AdaBoostRegressor(random_state=10, n_estimators=100)\n",
    "ab_reg.fit(X_train,y_train)\n",
    "y_train_pred_ab = ab_reg.predict(X_train)\n",
    "y_test_pred_ab = ab_reg.predict(X_test)"
   ]
  },
  {
   "cell_type": "code",
   "execution_count": 38,
   "metadata": {},
   "outputs": [
    {
     "name": "stdout",
     "output_type": "stream",
     "text": [
      "Metrics on training data\n",
      "RMSE: 126.26\n",
      "R2: -0.125\n",
      "------------------------------\n",
      "Metrics on test data\n",
      "RMSE: 115.105\n",
      "R2: -0.173\n",
      "------------------------------\n"
     ]
    }
   ],
   "source": [
    "prj.calculate_metrics(y_train, y_train_pred_ab, y_test, y_test_pred_ab)"
   ]
  },
  {
   "cell_type": "markdown",
   "metadata": {},
   "source": [
    "Grid search on Adaboost regressor could not further improve the results."
   ]
  },
  {
   "cell_type": "code",
   "execution_count": null,
   "metadata": {},
   "outputs": [],
   "source": [
    "# Import 'GridSearchCV', 'make_scorer', and any other necessary libraries\n",
    "from sklearn.model_selection import GridSearchCV\n",
    "from sklearn.metrics import make_scorer,fbeta_score\n",
    "\n",
    "# Initialize the classifier\n",
    "clf = AdaBoostRegressor(base_estimator=DecisionTreeRegressor()) \n",
    "\n",
    "# Create the parameters list you wish to tune\n",
    "parameters = {'n_estimators':[50, 120],                \n",
    "              'learning_rate':[0.1, 0.5, 1.],               \n",
    "              'base_estimator__min_samples_split' : np.arange(2, 8, 2),               \n",
    "              'base_estimator__max_depth' : np.arange(1, 4, 1)              \n",
    "             } \n",
    "\n",
    "# Make an fbeta_score scoring object\n",
    "scorer = make_scorer(fbeta_score,beta=0.5) "
   ]
  },
  {
   "cell_type": "code",
   "execution_count": null,
   "metadata": {},
   "outputs": [],
   "source": [
    "# Perform grid search on the classifier using 'scorer' as the scoring method\n",
    "adaboost_gs = GridSearchCV(clf, param_grid=parameters, scoring = scorer, cv = 5, n_jobs = -1)\n",
    "\n",
    "# Fit the grid search object to the training data and find the optimal parameters\n",
    "adaboost_gs.fit(X_train,y_train)"
   ]
  },
  {
   "cell_type": "code",
   "execution_count": null,
   "metadata": {},
   "outputs": [],
   "source": [
    "# Get the  best estimator\n",
    "best_clf = adaboost_gs.best_estimator_\n",
    "best_clf"
   ]
  },
  {
   "cell_type": "code",
   "execution_count": null,
   "metadata": {},
   "outputs": [],
   "source": [
    "clf.fit(X_train,y_train)\n",
    "\n",
    "# Make predictions using the unoptimized model\n",
    "predictions = clf.predict(X_test)\n",
    "predictions_train = clf.predict(X_train)\n",
    "\n",
    "\n",
    "# Make predictions using the optimized model\n",
    "best_predictions = best_clf.predict(X_test)\n",
    "best_predictions_train = best_clf.predict(X_train)\n"
   ]
  },
  {
   "cell_type": "code",
   "execution_count": null,
   "metadata": {},
   "outputs": [],
   "source": [
    "print('unoptimized model')\n",
    "prj.calculate_metrics(y_train, best_predictions_train, y_test, best_predictions)"
   ]
  },
  {
   "cell_type": "code",
   "execution_count": null,
   "metadata": {},
   "outputs": [],
   "source": [
    "print('optimized model')\n",
    "prj.calculate_metrics(y_train, best_predictions_train, y_test, best_predictions)"
   ]
  },
  {
   "cell_type": "code",
   "execution_count": null,
   "metadata": {},
   "outputs": [],
   "source": [
    "sns.set(style='whitegrid', palette=\"deep\", font_scale=1.1, rc={\"figure.figsize\": [8, 5]})\n",
    "sns.distplot(\n",
    "    df['scheduled_time_duration'], norm_hist=False, kde=False, bins=20, hist_kws={\"alpha\": 1}\n",
    ").set(xlabel='Scheduled flight(minutes)', ylabel='Count');"
   ]
  }
 ],
 "metadata": {
  "kernelspec": {
   "display_name": "Python 3.9.8 ('.venv': venv)",
   "language": "python",
   "name": "python3"
  },
  "language_info": {
   "codemirror_mode": {
    "name": "ipython",
    "version": 3
   },
   "file_extension": ".py",
   "mimetype": "text/x-python",
   "name": "python",
   "nbconvert_exporter": "python",
   "pygments_lexer": "ipython3",
   "version": "3.9.8"
  },
  "orig_nbformat": 4,
  "vscode": {
   "interpreter": {
    "hash": "0bbfea5e7b059f73fc1689b57ec3abe520a49335fba45bf160716007f93e3189"
   }
  }
 },
 "nbformat": 4,
 "nbformat_minor": 2
}
